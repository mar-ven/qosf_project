{
 "cells": [
  {
   "cell_type": "markdown",
   "id": "45dcf314",
   "metadata": {
    "tags": []
   },
   "source": [
    "# Challenge: working with NISQ Devices\n",
    "\n",
    "\n",
    "Quantum computers have important potential applications in multiple areas as are chemistry, machine learning, optimization, etc. But there exists a problem that is not mentioned at the moment you start working with a quantum processing unit (QPU): a large amount of noise and a limited number of qubits. \n",
    "\n",
    "Multiple companies work around quantum computers and algorithms but, on this challenge, we are focusing on the final step when your algorithm has been implemented on a real QPU and you need to mitigate errors. This will be possible using Mitiq, a multiplatform package focused on error mitigation. If you want to know more about this package you can check the following link https://mitiq.readthedocs.io/en/stable/\n",
    "\n",
    "\n",
    "\n",
    "## The problem\n",
    "\n",
    "Imagine you are working for a quantum computing company, and your role is to find the possibility to implement a quantum algorithm on QPUs. The first step is coding the following pseudocode in your favourite framework.   \n",
    "\n",
    "<div style=\"background-color:#FFFF00; padding:10px 0;font-family:monospace;\">\n",
    "<font color = \"blue\"><b>def draper_adder(n:int, n1:int, n2:int):</b></font><br>\n",
    "    &nbsp;&nbsp;&nbsp;&nbsp; <font color = \"#0037ffff\">     “”” <br>\n",
    "    &nbsp;&nbsp;&nbsp;&nbsp; n : integer value that is the number of qubits.<br>\n",
    "    &nbsp;&nbsp;&nbsp;&nbsp; n1: integer value that is the first value for the adder.<br>\n",
    "    &nbsp;&nbsp;&nbsp;&nbsp; n2: integer value that is the secod value for the adder.<br>\n",
    "    &nbsp;&nbsp;&nbsp;&nbsp; Return the quantum circuit<br>\n",
    "    &nbsp;&nbsp;&nbsp;&nbsp;     “””</font>  <br>    \n",
    "    &nbsp;&nbsp;&nbsp;&nbsp; <font color = \"blue\"><b>input </b></font><br>   \n",
    "    &nbsp;&nbsp;&nbsp;&nbsp; $X_{basis_1} = X(n_1) $ <br>\n",
    "    &nbsp;&nbsp;&nbsp;&nbsp; $X_{basis_2} = X(n_2) $ <br>\n",
    "    &nbsp;&nbsp;&nbsp;&nbsp; $H_{init} = X_{basis_1}^{n} + X_{basis_2}^{n} $ <br>\n",
    "    &nbsp;&nbsp;&nbsp;&nbsp; $H_{init} = I^{n} + QFT^{n} $ <br>\n",
    "    &nbsp;&nbsp;&nbsp;&nbsp; $|X\\rangle|Y\\rangle = |00...0\\rangle_{n}|00...0\\rangle_{n}$ <br> \n",
    "    &nbsp;&nbsp;&nbsp;&nbsp; $|\\psi_1 \\rangle = H_{init}|X\\rangle|Y\\rangle$ <br>\n",
    "    &nbsp;&nbsp;&nbsp;&nbsp; <font color = \"blue\"><b>procedure </b></font><br>   \n",
    "    &nbsp;&nbsp;&nbsp;&nbsp; <font color = \"#ff0000ff\"><b>for </b></font>$i \\in  \\{1,2,...,n\\}$ <font color = \"#ff0000ff\"><b></b>do</font><br>   \n",
    "    &nbsp;&nbsp;&nbsp;&nbsp;&nbsp;&nbsp;&nbsp;&nbsp; <font color = \"#ff0000ff\"><b>for </b></font>$j \\in  \\{0,1,...,n\\}$ <font color = \"#ff0000ff\"><b></b>do</font><br>   \n",
    "    &nbsp;&nbsp;&nbsp;&nbsp;&nbsp;&nbsp;&nbsp;&nbsp;&nbsp;&nbsp;&nbsp;&nbsp; $|\\psi_2\\rangle=CP(\\frac{\\pi}{2^{i}},j)|\\psi_1\\rangle$<br>\n",
    "    &nbsp;&nbsp;&nbsp;&nbsp;&nbsp;&nbsp;&nbsp;&nbsp; <font color = \"#ff0000ff\"><b>end for</b></font><br>   \n",
    "    &nbsp;&nbsp;&nbsp;&nbsp; <font color = \"#ff0000ff\"><b>end for</b></font><br>   \n",
    "    &nbsp;&nbsp;&nbsp;&nbsp; $H_{out} = I^{n} + QFT^{\\dagger n} $ <br>\n",
    "    &nbsp;&nbsp;&nbsp;&nbsp; $|\\psi_3 \\rangle = H_{out}|\\psi_2 \\rangle$ <br>\n",
    "    &nbsp;&nbsp;&nbsp;&nbsp; <font color = \"#00b400ff\"><b>return  </b></font>Circuit producing $\\langle Y|\\psi_3 \\rangle$ <br>\n",
    "    \n",
    "    \n",
    "        \n",
    "</div>\n",
    "        \n",
    "    "
   ]
  },
  {
   "cell_type": "markdown",
   "id": "02f39e22",
   "metadata": {},
   "source": [
    "The general quantum algorithm scheme you can find in Figure 1. For example, if you want to do 5+ 2 you need 6 qubits in total, 3 for the state |101> that is 5, and |010> that is 2 in the basis encoding. The result is 7 and, therefore, final state when you measure the quantum circuit must be |111> (wihtout noise). \n",
    "\n",
    "\n",
    "![Draper adder](images/draper_adder.png)\n",
    "<center>Figure 1. General quantum circuit to Draper adder </center>\n",
    "\n",
    "\n",
    "### Resources\n",
    "\n",
    "For some guidelines regarding the quantum algorithm, you can check the following sources, including the original paper explaining this idea, as well as some tutorials from different frameworks.\n",
    "\n",
    "[1]Draper, Thomas. (2000). Addition on a Quantum Computer [[0008033]](https://arxiv.org/abs/quant-ph/0008033).\n",
    "\n",
    "[2] [Qiskit Code](https://qiskit.org/documentation/stubs/qiskit.circuit.library.DraperQFTAdder.html).\n",
    "\n",
    "[3] [Qiskit Application](https://github.com/qiskit-community/ibm-quantum-challenge-fall-2021/blob/main/solutions-by-authors/challenge-4/challenge-4.ipynb)\n",
    "\n",
    "[4] [Pennylane Tutorial](https://pennylane.ai/qml/demos/tutorial_qft_arithmetics.html)\n",
    "\n",
    "[5] [Q# Tutorial](https://learn.microsoft.com/en-us/azure/quantum/user-guide/libraries/standard/algorithms)\n"
   ]
  },
  {
   "cell_type": "code",
   "execution_count": 1,
   "id": "676259bb",
   "metadata": {},
   "outputs": [],
   "source": [
    "# code of your proposal for draper adder\n",
    "from qiskit import *\n",
    "import numpy as np\n",
    "from qiskit.circuit.library import QFT\n",
    "\n",
    "\n",
    "def basis_encoding(n:int,value:int) -> QuantumCircuit:\n",
    "    qc = QuantumCircuit(n)\n",
    "\n",
    "    for i,j in enumerate(np.binary_repr(value,width=n)):\n",
    "        if j == '1':\n",
    "            qc.x(n-i-1)\n",
    "\n",
    "    return qc.to_gate(label = \"[\"+str(value)+\"]\")\n",
    "\n",
    "\n",
    "def draper_adder(n:int, n1:int, n2:int) -> QuantumCircuit:\n",
    "    \"\"\"\n",
    "     n : integer value that is the number of qubits.\n",
    "     n1: integer value that is the first value for the adder.\n",
    "     n2: integer value that is the second value for the adder.\n",
    "     Return the quantum circuit\n",
    "    \"\"\"\n",
    "    #quantum circuit\n",
    "    val1 = QuantumRegister(n)\n",
    "    val2 = QuantumRegister(n)\n",
    "    cr = ClassicalRegister(n)\n",
    "    qc = QuantumCircuit(val1,val2,cr)\n",
    "    \n",
    "    ## implementation of the draper adder consider n qubits for the basis encoding\n",
    "    qc.append(basis_encoding(n,n1),val1)\n",
    "    qc.append(basis_encoding(n,n2),val2)\n",
    "    \n",
    "    qc = qc.compose(QFT(num_qubits=n,inverse=False,name='QFT').to_gate(),val2 )\n",
    "\n",
    "\n",
    "    for j in range(n):\n",
    "        for k in range(n - j):\n",
    "            lam = np.pi / (2**k)\n",
    "            qc.cp(lam, val1[n-j-1], val2[n-j-k-1])\n",
    "            \n",
    "            \n",
    "    qc = qc.compose(QFT(num_qubits=n,inverse=True,name='QFT_inverse').to_gate(),val2 )\n",
    "\n",
    "    \n",
    "    qc.measure(val2,cr)\n",
    "    return qc\n",
    "    "
   ]
  },
  {
   "cell_type": "code",
   "execution_count": 2,
   "id": "25317479",
   "metadata": {},
   "outputs": [
    {
     "data": {
      "text/html": [
       "<pre style=\"word-wrap: normal;white-space: pre;background: #fff0;line-height: 1.1;font-family: &quot;Courier New&quot;,Courier,monospace\">      ┌──────┐                                                        »\n",
       "q0_0: ┤0     ├──────────────────────────────────────────────────■─────»\n",
       "      │      │                                                  │     »\n",
       "q0_1: ┤1 [5] ├──────────────────────────────────■──────■────────┼─────»\n",
       "      │      │                                  │      │        │     »\n",
       "q0_2: ┤2     ├─────────■──────■────────■────────┼──────┼────────┼─────»\n",
       "      ├──────┤┌──────┐ │      │        │P(π/4)  │      │P(π/2)  │P(π) »\n",
       "q1_0: ┤0     ├┤0     ├─┼──────┼────────■────────┼──────■────────■─────»\n",
       "      │      ││      │ │      │P(π/2)           │P(π)                 »\n",
       "q1_1: ┤1 [2] ├┤1 QFT ├─┼──────■─────────────────■─────────────────────»\n",
       "      │      ││      │ │P(π)                                          »\n",
       "q1_2: ┤2     ├┤2     ├─■──────────────────────────────────────────────»\n",
       "      └──────┘└──────┘                                                »\n",
       "c0: 3/════════════════════════════════════════════════════════════════»\n",
       "                                                                      »\n",
       "«                               \n",
       "«q0_0: ─────────────────────────\n",
       "«                               \n",
       "«q0_1: ─────────────────────────\n",
       "«                               \n",
       "«q0_2: ─────────────────────────\n",
       "«      ┌──────────────┐┌─┐      \n",
       "«q1_0: ┤0             ├┤M├──────\n",
       "«      │              │└╥┘┌─┐   \n",
       "«q1_1: ┤1 QFT_inverse ├─╫─┤M├───\n",
       "«      │              │ ║ └╥┘┌─┐\n",
       "«q1_2: ┤2             ├─╫──╫─┤M├\n",
       "«      └──────────────┘ ║  ║ └╥┘\n",
       "«c0: 3/═════════════════╩══╩══╩═\n",
       "«                       0  1  2 </pre>"
      ],
      "text/plain": [
       "      ┌──────┐                                                        »\n",
       "q0_0: ┤0     ├──────────────────────────────────────────────────■─────»\n",
       "      │      │                                                  │     »\n",
       "q0_1: ┤1 [5] ├──────────────────────────────────■──────■────────┼─────»\n",
       "      │      │                                  │      │        │     »\n",
       "q0_2: ┤2     ├─────────■──────■────────■────────┼──────┼────────┼─────»\n",
       "      ├──────┤┌──────┐ │      │        │P(π/4)  │      │P(π/2)  │P(π) »\n",
       "q1_0: ┤0     ├┤0     ├─┼──────┼────────■────────┼──────■────────■─────»\n",
       "      │      ││      │ │      │P(π/2)           │P(π)                 »\n",
       "q1_1: ┤1 [2] ├┤1 QFT ├─┼──────■─────────────────■─────────────────────»\n",
       "      │      ││      │ │P(π)                                          »\n",
       "q1_2: ┤2     ├┤2     ├─■──────────────────────────────────────────────»\n",
       "      └──────┘└──────┘                                                »\n",
       "c0: 3/════════════════════════════════════════════════════════════════»\n",
       "                                                                      »\n",
       "«                               \n",
       "«q0_0: ─────────────────────────\n",
       "«                               \n",
       "«q0_1: ─────────────────────────\n",
       "«                               \n",
       "«q0_2: ─────────────────────────\n",
       "«      ┌──────────────┐┌─┐      \n",
       "«q1_0: ┤0             ├┤M├──────\n",
       "«      │              │└╥┘┌─┐   \n",
       "«q1_1: ┤1 QFT_inverse ├─╫─┤M├───\n",
       "«      │              │ ║ └╥┘┌─┐\n",
       "«q1_2: ┤2             ├─╫──╫─┤M├\n",
       "«      └──────────────┘ ║  ║ └╥┘\n",
       "«c0: 3/═════════════════╩══╩══╩═\n",
       "«                       0  1  2 "
      ]
     },
     "execution_count": 2,
     "metadata": {},
     "output_type": "execute_result"
    }
   ],
   "source": [
    "draper_adder(3, 5, 2).draw()"
   ]
  },
  {
   "cell_type": "markdown",
   "id": "df5c4dd8",
   "metadata": {},
   "source": [
    "## Ideal simulation"
   ]
  },
  {
   "cell_type": "code",
   "execution_count": 3,
   "id": "e41e88a9",
   "metadata": {},
   "outputs": [
    {
     "name": "stdout",
     "output_type": "stream",
     "text": [
      "{'111': 1.0}\n"
     ]
    },
    {
     "data": {
      "image/png": "[encoded data removed]",
      "text/plain": [
       "<Figure size 504x360 with 1 Axes>"
      ]
     },
     "execution_count": 3,
     "metadata": {},
     "output_type": "execute_result"
    }
   ],
   "source": [
    "#consider the following example\n",
    "qc = draper_adder(3, 5, 2)\n",
    "\n",
    "# execute this in a simulator must be the output 7 or 111 with 100% of probability\n",
    "######################\n",
    "# your code here#\n",
    "#################\n",
    "from qiskit.visualization import *\n",
    "shots = 20000\n",
    "counts = execute(qc,Aer.get_backend('qasm_simulator'),shots=shots).result().get_counts()# the result of your simulation # the result of your simulation\n",
    "\n",
    "for k in counts.keys():\n",
    "    counts[k] /= shots\n",
    "\n",
    "###################\n",
    "\n",
    "result =  counts\n",
    "print(result)\n",
    "plot_histogram(result)"
   ]
  },
  {
   "cell_type": "markdown",
   "id": "f5360dca",
   "metadata": {},
   "source": [
    "## Noisy Simulation\n",
    "\n",
    "Add depolarizing noise with a probability of 0.02 in the simulation that you are working on. Try to execute your code and see if the output is the same or if instead the probability distribution in the output bitstring is different."
   ]
  },
  {
   "cell_type": "code",
   "execution_count": 4,
   "id": "018697bb",
   "metadata": {},
   "outputs": [
    {
     "name": "stdout",
     "output_type": "stream",
     "text": [
      "{'110': 0.0783, '100': 0.0449, '011': 0.15085, '000': 0.06115, '001': 0.0816, '111': 0.45555, '010': 0.04485, '101': 0.0828}\n"
     ]
    },
    {
     "data": {
      "image/png": "[encoded data removed]",
      "text/plain": [
       "<Figure size 504x360 with 1 Axes>"
      ]
     },
     "execution_count": 4,
     "metadata": {},
     "output_type": "execute_result"
    }
   ],
   "source": [
    "#consider the following example\n",
    "qc = draper_adder(3, 5, 2)\n",
    "\n",
    "# execute this in a noise simulator must be the output 7 or 111, but with a noise could be other states i nthe output.\n",
    "######################\n",
    "# your code here#\n",
    "#################\n",
    "from mitiq.interface.mitiq_qiskit.qiskit_utils import initialized_depolarizing_noise\n",
    "noise_model = initialized_depolarizing_noise(noise_level=0.02)\n",
    "\n",
    "###################\n",
    "\n",
    "counts =  execute(qc.decompose().decompose(),Aer.get_backend('qasm_simulator'),\n",
    "                  shots=20000,            \n",
    "                  noise_model=noise_model,\n",
    "                  basis_gates=noise_model.basis_gates,\n",
    "            optimization_level=0).result().get_counts()# the result of your simulation # the result of your simulation\n",
    "\n",
    "for k in counts.keys():\n",
    "    counts[k] /= shots\n",
    "##############\n",
    "result = counts\n",
    "\n",
    "print(result)\n",
    "plot_histogram(result)"
   ]
  },
  {
   "cell_type": "code",
   "execution_count": 5,
   "id": "c8e9941f",
   "metadata": {},
   "outputs": [
    {
     "data": {
      "text/plain": [
       "('Depth of quantum circuit', 33)"
      ]
     },
     "execution_count": 5,
     "metadata": {},
     "output_type": "execute_result"
    }
   ],
   "source": [
    "\"Depth of quantum circuit\",qc.decompose().decompose().depth()"
   ]
  },
  {
   "cell_type": "markdown",
   "id": "e19df6dc",
   "metadata": {},
   "source": [
    "## Using Mitiq\n",
    "At this point, you need to use Zero noise Extrapolation (ZNE) and obtain a result which is closer to the ideal result. For that, you need to scale up the noise level by applying _unitary folding_  to your quantum circuit such that you can estimate the error-mitigated result via different extrapolation methods: linear, polynomial, exponential, and Richardson. You can find a guide for applying ZNE with Mitiq [here](https://mitiq.readthedocs.io/en/stable/guide/zne.html) and you can find additional examples [here](https://mitiq.readthedocs.io/en/stable/examples/examples.html) ."
   ]
  },
  {
   "cell_type": "code",
   "execution_count": 6,
   "id": "b17d2867",
   "metadata": {},
   "outputs": [
    {
     "name": "stdout",
     "output_type": "stream",
     "text": [
      "Unmitigated result: 0.46025\n",
      "Default ZNE result: 0.7728500000000004\n",
      "Linear ZNE result: 0.5773500000000003\n",
      "Exponential ZNE result: 0.9118806789915396\n",
      "Richardson ZNE result: 0.8026500000000004\n",
      "Polynomial ZNE result: 0.7804500000000003\n"
     ]
    }
   ],
   "source": [
    "from mitiq import zne\n",
    "from mitiq.zne.scaling import fold_global\n",
    "\n",
    "qc = draper_adder(3, 5, 2)\n",
    "\n",
    "def ibm_executor(circuit: QuantumCircuit, shots: int = 20000) -> float:\n",
    "    \"\"\"Returns the expectation value to be mitigated.\n",
    "\n",
    "    Args:\n",
    "        circuit: Circuit to run.\n",
    "        shots: Number of times to execute the circuit to compute the expectation value.\n",
    "    \"\"\"\n",
    "    # Simulate the circuit with noise\n",
    "    job = execute(\n",
    "        experiments=circuit,\n",
    "        backend=Aer.get_backend(\"qasm_simulator\"),\n",
    "        noise_model=noise_model,\n",
    "        basis_gates=noise_model.basis_gates,\n",
    "        optimization_level=0,  # Important to preserve folded gates.\n",
    "        shots=shots,\n",
    "    )\n",
    "\n",
    "    # Convert from raw measurement counts to the expectation value\n",
    "    counts = job.result().get_counts()\n",
    "    \n",
    "    \n",
    "    expectation_value = counts.get(\"111\", 0.0) / shots\n",
    "    return expectation_value\n",
    "\n",
    "\n",
    "\n",
    "qc = qc.decompose().decompose()\n",
    "decomposed = transpile(qc,\n",
    "                       basis_gates=[\"u1\", \"u2\", \"u3\", \"cx\"], \n",
    "                       optimization_level=0) \n",
    "\n",
    "\n",
    "print(\"Unmitigated result:\", ibm_executor(qc))\n",
    "###################\n",
    "result = zne.execute_with_zne(decomposed, ibm_executor)\n",
    "#result = # the result of your simulation\n",
    "##############\n",
    "print(\"Default ZNE result:\", result)\n",
    "\n",
    "scale_factors = [1, 2, 3]\n",
    "\n",
    "## Linear Factory\n",
    "linear_factory = zne.inference.LinearFactory(scale_factors=scale_factors)\n",
    "result = zne.execute_with_zne(decomposed, ibm_executor, factory=linear_factory, scale_noise=fold_global)\n",
    "print(\"Linear ZNE result:\", result)\n",
    "\n",
    "\n",
    "## Exp Factory\n",
    "exp_factory = zne.inference.ExpFactory(scale_factors=scale_factors, asymptote= 2**-3)\n",
    "result = zne.execute_with_zne(decomposed, ibm_executor, factory=exp_factory, scale_noise=fold_global)\n",
    "print(\"Exponential ZNE result:\", result)\n",
    "\n",
    "\n",
    "## Richardson Factory\n",
    "richardson_factory = zne.inference.RichardsonFactory(scale_factors=scale_factors)\n",
    "result = zne.execute_with_zne(decomposed, ibm_executor, factory=richardson_factory, scale_noise=fold_global)\n",
    "print(\"Richardson ZNE result:\", result)\n",
    "\n",
    "\n",
    "\n",
    "## Poly Factory\n",
    "poly_factory = zne.inference.PolyFactory(scale_factors=scale_factors, order=2)\n",
    "result = zne.execute_with_zne(decomposed, ibm_executor, factory=poly_factory, scale_noise=fold_global)\n",
    "print(\"Polynomial ZNE result:\", result)"
   ]
  },
  {
   "cell_type": "markdown",
   "id": "fee8daa7",
   "metadata": {},
   "source": [
    "As you can see, error mitigation slightly increases the probability of the correct result \"111\". However, since the noise is very large, even the error-mitigated expectation values are quite far from the ideal result which is 1.\n",
    "\n",
    "This fact shows that, error mitigation can be very effective to mitigate weak levels of noise but it can have bad performances if the noise is too large. In particular, if the noise is so strong to destroy any signal of the ideal result, error mitigation may not work.\n",
    "\n",
    "In the next section we try to simplify the draper_added algorithm itself, in order to obtain better results."
   ]
  },
  {
   "cell_type": "markdown",
   "id": "93a408a8",
   "metadata": {},
   "source": [
    "## Version 2 of Draper Adder circuit\n",
    "\n",
    "\n",
    "Using the same process but we can reduce the depth and the number of gates using the following  changes:\n",
    "\n",
    "<div style=\"background-color:#FFFF00; padding:10px 0;font-family:monospace;\">\n",
    "<font color = \"blue\"><b>def draper_adder(n:int, n1:int, n2:int):</b></font><br>\n",
    "    &nbsp;&nbsp;&nbsp;&nbsp; <font color = \"#0037ffff\">     “”” <br>\n",
    "    &nbsp;&nbsp;&nbsp;&nbsp; n : integer value that is the number of qubits.<br>\n",
    "    &nbsp;&nbsp;&nbsp;&nbsp; n1: integer value that is the first value for the adder.<br>\n",
    "    &nbsp;&nbsp;&nbsp;&nbsp; n2: integer value that is the secod value for the adder.<br>\n",
    "    &nbsp;&nbsp;&nbsp;&nbsp; Return the quantum circuit<br>\n",
    "    &nbsp;&nbsp;&nbsp;&nbsp;     “””</font>  <br>    \n",
    "    &nbsp;&nbsp;&nbsp;&nbsp; <font color = \"blue\"><b>input </b></font><br>   \n",
    "    &nbsp;&nbsp;&nbsp;&nbsp; $X_{basis_1} = X(n_1) $ <br>\n",
    "    &nbsp;&nbsp;&nbsp;&nbsp; $X_{basis_2} = X(n_2) $ <br>\n",
    "    &nbsp;&nbsp;&nbsp;&nbsp; $H_{init} = X_{basis_1}^{n} + X_{basis_2}^{n} $ <br>\n",
    "    &nbsp;&nbsp;&nbsp;&nbsp; $H_{init} = I^{n} + QFT^{n} $ <br>\n",
    "    &nbsp;&nbsp;&nbsp;&nbsp; $|X\\rangle|Y\\rangle = |00...0\\rangle_{n}|00...0\\rangle_{n}$ <br> \n",
    "    &nbsp;&nbsp;&nbsp;&nbsp; $|\\psi_1 \\rangle = H_{init}|X\\rangle|Y\\rangle$ <br>\n",
    "    &nbsp;&nbsp;&nbsp;&nbsp; <font color = \"blue\"><b>procedure </b></font><br>   \n",
    "    &nbsp;&nbsp;&nbsp;&nbsp; <font color = \"#ff0000ff\"><b>for </b></font>$j \\in  \\{1,2,...,n\\}$ <font color = \"#ff0000ff\"><b></b>do</font><br>   \n",
    "    &nbsp;&nbsp;&nbsp;&nbsp;&nbsp;&nbsp;&nbsp;&nbsp; k = 0 <br>\n",
    "    &nbsp;&nbsp;&nbsp;&nbsp;&nbsp;&nbsp;&nbsp;&nbsp; <font color = \"#ff0000ff\"><b>for </b></font>$j \\in  \\{n-1-j,...,0\\}$ <font color = \"#ff0000ff\"><b></b>do</font><br>   \n",
    "    &nbsp;&nbsp;&nbsp;&nbsp;&nbsp;&nbsp;&nbsp;&nbsp;&nbsp;&nbsp;&nbsp;&nbsp; $|\\psi_2\\rangle=CP(\\frac{n_2 *\\pi}{2^{i}},j,k)|\\psi_1\\rangle$<br>\n",
    "    &nbsp;&nbsp;&nbsp;&nbsp;&nbsp;&nbsp;&nbsp;&nbsp; <font color = \"#ff0000ff\"><b>end for</b></font><br>   \n",
    "    &nbsp;&nbsp;&nbsp;&nbsp; <font color = \"#ff0000ff\"><b>end for</b></font><br>   \n",
    "    &nbsp;&nbsp;&nbsp;&nbsp; $H_{out} = I^{n} + QFT^{\\dagger n} $ <br>\n",
    "    &nbsp;&nbsp;&nbsp;&nbsp; $|\\psi_3 \\rangle = H_{out}|\\psi_2 \\rangle$ <br>\n",
    "    &nbsp;&nbsp;&nbsp;&nbsp; <font color = \"#00b400ff\"><b>return </b></font>$\\langle Y|\\psi_3 \\rangle$ <br>\n",
    "    \n",
    "</div>\n",
    "        "
   ]
  },
  {
   "cell_type": "markdown",
   "id": "740c79d9",
   "metadata": {},
   "source": [
    "You can find the quantum circuit of this new version in Figure 2. \n",
    "\n",
    "![Draper adder](images/draper_adder_v2.png)\n",
    "<center>Figure 1. General quantum circuit to Draper adder version 2. </center>"
   ]
  },
  {
   "cell_type": "markdown",
   "id": "d25323f8",
   "metadata": {},
   "source": [
    "Now you can apply the previous process to generate the circuit for simulation, run it without and with depolarizing noise, and mitigate the results.\n",
    "\n",
    "\n",
    "### Simulation"
   ]
  },
  {
   "cell_type": "code",
   "execution_count": 7,
   "id": "58668748",
   "metadata": {},
   "outputs": [],
   "source": [
    "# code of your proposal for draper adder\n",
    "\n",
    "def draper_adder_v2(n:int, n1:int, n2:int):\n",
    "    \"\"\"\n",
    "     n : integer value that is the number of qubits.\n",
    "     n1: integer value that is the first value for the adder.\n",
    "     n2: integer value that is the second value for the adder.\n",
    "     Return the quantum circuit\n",
    "    \"\"\"\n",
    "        \n",
    "    #quantum circuit\n",
    "    val1 = QuantumRegister(n)\n",
    "    val2 = QuantumRegister(n)\n",
    "    cr = ClassicalRegister(n)\n",
    "    qc = QuantumCircuit(val1,val2,cr)\n",
    "    \n",
    "    ## implementation of the draper adder consider n qubits for the basis encoding\n",
    "    \n",
    "    #qc.append(basis_encoding(n,n1),val1)\n",
    "    qc.x(val1)\n",
    "    qc.append(basis_encoding(n,n2),val2)\n",
    "    \n",
    "    #qc.h(val2)\n",
    "    qc = qc.compose(QFT(num_qubits=n,inverse=False,name='QFT').to_gate(),val2 )\n",
    "\n",
    "    \n",
    "    for j in range(n):\n",
    "        lam = n1*np.pi / (2**(n-j-1))\n",
    "        qc.cp(lam, val1[j], val2[j])\n",
    "        #qc.p(lam, val2[j])\n",
    "            \n",
    "    \n",
    "    #qc.append(QFT(n, inverse=True, name='QFT_inverse').to_gate(), val2 )\n",
    "    qc = qc.compose(QFT(num_qubits=n,inverse=True,name='QFT_inverse').to_gate(),val2)\n",
    "\n",
    "    \n",
    "    qc.measure(val2,cr)\n",
    "    return qc\n",
    "    "
   ]
  },
  {
   "cell_type": "code",
   "execution_count": 8,
   "id": "34444d89",
   "metadata": {},
   "outputs": [
    {
     "data": {
      "text/html": [
       "<pre style=\"word-wrap: normal;white-space: pre;background: #fff0;line-height: 1.1;font-family: &quot;Courier New&quot;,Courier,monospace\">         ┌───┐                                                               \n",
       "q104_0: ─┤ X ├───────────■───────────────────────────────────────────────────\n",
       "         ├───┤           │                                                   \n",
       "q104_1: ─┤ X ├───────────┼─────────■─────────────────────────────────────────\n",
       "         ├───┤           │         │                                         \n",
       "q104_2: ─┤ X ├───────────┼─────────┼─────────■───────────────────────────────\n",
       "        ┌┴───┴─┐┌──────┐ │P(5π/4)  │         │      ┌──────────────┐┌─┐      \n",
       "q105_0: ┤0     ├┤0     ├─■─────────┼─────────┼──────┤0             ├┤M├──────\n",
       "        │      ││      │           │P(5π/2)  │      │              │└╥┘┌─┐   \n",
       "q105_1: ┤1 [2] ├┤1 QFT ├───────────■─────────┼──────┤1 QFT_inverse ├─╫─┤M├───\n",
       "        │      ││      │                     │P(5π) │              │ ║ └╥┘┌─┐\n",
       "q105_2: ┤2     ├┤2     ├─────────────────────■──────┤2             ├─╫──╫─┤M├\n",
       "        └──────┘└──────┘                            └──────────────┘ ║  ║ └╥┘\n",
       "  c4: 3/═════════════════════════════════════════════════════════════╩══╩══╩═\n",
       "                                                                     0  1  2 </pre>"
      ],
      "text/plain": [
       "         ┌───┐                                                               \n",
       "q104_0: ─┤ X ├───────────■───────────────────────────────────────────────────\n",
       "         ├───┤           │                                                   \n",
       "q104_1: ─┤ X ├───────────┼─────────■─────────────────────────────────────────\n",
       "         ├───┤           │         │                                         \n",
       "q104_2: ─┤ X ├───────────┼─────────┼─────────■───────────────────────────────\n",
       "        ┌┴───┴─┐┌──────┐ │P(5π/4)  │         │      ┌──────────────┐┌─┐      \n",
       "q105_0: ┤0     ├┤0     ├─■─────────┼─────────┼──────┤0             ├┤M├──────\n",
       "        │      ││      │           │P(5π/2)  │      │              │└╥┘┌─┐   \n",
       "q105_1: ┤1 [2] ├┤1 QFT ├───────────■─────────┼──────┤1 QFT_inverse ├─╫─┤M├───\n",
       "        │      ││      │                     │P(5π) │              │ ║ └╥┘┌─┐\n",
       "q105_2: ┤2     ├┤2     ├─────────────────────■──────┤2             ├─╫──╫─┤M├\n",
       "        └──────┘└──────┘                            └──────────────┘ ║  ║ └╥┘\n",
       "  c4: 3/═════════════════════════════════════════════════════════════╩══╩══╩═\n",
       "                                                                     0  1  2 "
      ]
     },
     "execution_count": 8,
     "metadata": {},
     "output_type": "execute_result"
    }
   ],
   "source": [
    "qc = draper_adder_v2(3, 5, 2)\n",
    "qc.draw()"
   ]
  },
  {
   "cell_type": "code",
   "execution_count": 9,
   "id": "6c831557",
   "metadata": {},
   "outputs": [
    {
     "name": "stdout",
     "output_type": "stream",
     "text": [
      "{'111': 20000}\n"
     ]
    }
   ],
   "source": [
    "#consider the following example\n",
    "qc = draper_adder_v2(3, 5, 2)\n",
    "\n",
    "# execute this in a simulator must be the output 7 or 111 with 100% of probability\n",
    "######################\n",
    "# your code here#\n",
    "#################\n",
    "###################\n",
    "\n",
    "result =  execute(qc,Aer.get_backend('qasm_simulator'),shots=20000).result().get_counts() #the result of your simulation\n",
    "##############\n",
    "print(result)"
   ]
  },
  {
   "cell_type": "markdown",
   "id": "8fa7fb49",
   "metadata": {},
   "source": [
    "### Noisy simulation\n",
    "\n",
    "Using the same parameter for the noise model"
   ]
  },
  {
   "cell_type": "code",
   "execution_count": 10,
   "id": "c15c6ce9",
   "metadata": {},
   "outputs": [
    {
     "name": "stdout",
     "output_type": "stream",
     "text": [
      "{'000': 0.0663, '001': 0.06665, '100': 0.0438, '110': 0.07485, '011': 0.1158, '111': 0.51475, '010': 0.0457, '101': 0.07215}\n"
     ]
    },
    {
     "data": {
      "image/png": "[encoded data removed]",
      "text/plain": [
       "<Figure size 504x360 with 1 Axes>"
      ]
     },
     "execution_count": 10,
     "metadata": {},
     "output_type": "execute_result"
    }
   ],
   "source": [
    "#consider the following example\n",
    "qc = draper_adder_v2(3, 5, 2)\n",
    "\n",
    "# execute this in a noise simulator must be the output 7 or 111, but with a noise could be other states i nthe output.\n",
    "######################\n",
    "# your code here#\n",
    "#################\n",
    "\n",
    "\n",
    "counts =  execute(qc.decompose().decompose(),Aer.get_backend('qasm_simulator'),\n",
    "                  shots=20000,            \n",
    "                  noise_model=noise_model,\n",
    "                  basis_gates=noise_model.basis_gates,\n",
    "            optimization_level=0).result().get_counts()# the result of your simulation # the result of your simulation\n",
    "\n",
    "for k in counts.keys():\n",
    "    counts[k] /= shots\n",
    "##############\n",
    "result = counts\n",
    "\n",
    "print(result)\n",
    "plot_histogram(result)"
   ]
  },
  {
   "cell_type": "code",
   "execution_count": 11,
   "id": "c0decae7",
   "metadata": {},
   "outputs": [
    {
     "data": {
      "text/plain": [
       "('Depth of quantum circuit', 17)"
      ]
     },
     "execution_count": 11,
     "metadata": {},
     "output_type": "execute_result"
    }
   ],
   "source": [
    "\"Depth of quantum circuit\",qc.decompose().decompose().depth()"
   ]
  },
  {
   "cell_type": "markdown",
   "id": "b1c0f1e4",
   "metadata": {},
   "source": [
    "## Using Mitiq\n",
    "\n",
    "Use the same proccess and the same four functions: linear, polynomial, exponential and Richardson to find the best fit for the mitigation error."
   ]
  },
  {
   "cell_type": "code",
   "execution_count": 12,
   "id": "1e59b867",
   "metadata": {},
   "outputs": [
    {
     "name": "stdout",
     "output_type": "stream",
     "text": [
      "Unmitigated result: 0.52245\n",
      "Default ZNE result: 0.8171500000000002\n",
      "Linear ZNE result: 0.6503500000000001\n",
      "Exponential ZNE result: 0.9478302877580596\n",
      "Richardson ZNE result: 0.8536000000000002\n",
      "Polynomial ZNE result: 0.8560500000000003\n"
     ]
    }
   ],
   "source": [
    "qc = draper_adder_v2(3, 5, 2)\n",
    "\n",
    "\n",
    "qc = qc.decompose().decompose()\n",
    "decomposed = transpile(qc,\n",
    "                       basis_gates=[\"u1\", \"u2\", \"u3\", \"cx\"], \n",
    "                       optimization_level=0) \n",
    "\n",
    "\n",
    "print(\"Unmitigated result:\", ibm_executor(qc))\n",
    "###################\n",
    "result = zne.execute_with_zne(decomposed, ibm_executor)\n",
    "#result = # the result of your simulation\n",
    "##############\n",
    "print(\"Default ZNE result:\", result)\n",
    "\n",
    "scale_factors = [1, 2, 3]\n",
    "\n",
    "## Linear Extrapolation\n",
    "linear_factory = zne.inference.LinearFactory(scale_factors=scale_factors)\n",
    "result = zne.execute_with_zne(decomposed, ibm_executor, factory=linear_factory, scale_noise=fold_global)\n",
    "print(\"Linear ZNE result:\", result)\n",
    "\n",
    "## Exp Extrapolation\n",
    "exp_factory = zne.inference.ExpFactory(scale_factors=scale_factors, asymptote=2**-3)\n",
    "result = zne.execute_with_zne(decomposed, ibm_executor, factory=exp_factory, scale_noise=fold_global)\n",
    "print(\"Exponential ZNE result:\", result)\n",
    "\n",
    "## Richardson Extrapolation\n",
    "richardson_factory = zne.inference.RichardsonFactory(scale_factors=scale_factors)\n",
    "result = zne.execute_with_zne(decomposed, ibm_executor, factory=richardson_factory, scale_noise=fold_global)\n",
    "print(\"Richardson ZNE result:\", result)\n",
    "\n",
    "## Poly Extrapolation\n",
    "poly_factory = zne.inference.PolyFactory(scale_factors=scale_factors, order=2)\n",
    "result = zne.execute_with_zne(decomposed, ibm_executor, factory=poly_factory, scale_noise=fold_global)\n",
    "print(\"Polynomial ZNE result:\", result)"
   ]
  },
  {
   "cell_type": "markdown",
   "id": "acfbf545",
   "metadata": {},
   "source": [
    "## Bonus\n",
    "\n",
    "If you completed the notebook and to arrived at this point, congratulations! You did a great job on learning how to obtain better results on your quantum circuit executed on a QPU. Remember that you need an account on qBraid and send us a DM to share the credits and to use a real QPU. You can consider and try to contribute to an important part of the quantum community working in the field of quantum noise and error mitigation 😊"
   ]
  }
 ],
 "metadata": {
  "kernelspec": {
   "display_name": "Python 3",
   "language": "python",
   "name": "python3"
  },
  "language_info": {
   "codemirror_mode": {
    "name": "ipython",
    "version": 3
   },
   "file_extension": ".py",
   "mimetype": "text/x-python",
   "name": "python",
   "nbconvert_exporter": "python",
   "pygments_lexer": "ipython3",
   "version": "3.7.7"
  }
 },
 "nbformat": 4,
 "nbformat_minor": 5
}
