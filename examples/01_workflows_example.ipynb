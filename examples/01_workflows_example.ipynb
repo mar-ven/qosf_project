{
 "cells": [
  {
   "cell_type": "markdown",
   "metadata": {},
   "source": [
    "# 01 -  Introduction to OpenQAOA: An example workflow\n",
    "\n",
    "This section provides a walkthrough of a simple example workflow, and is intended as a quick introduction to the functionalities of the OpenQAOA library. More focused examples are provided in other sections of the documentation.\n",
    "\n",
    "The QAOA workflow can be divided in four simple steps:\n",
    "- Problem definition: Define your optimization problem here, either by: \n",
    "    - using pre-defined problem classes or,\n",
    "    - supplying your own QUBO\n",
    "- Model building: \n",
    "    - Build the QAOA circuit with the available configurations\n",
    "    - Choose the backend (device) to run the circuit\n",
    "    - Choose the properties of the classical optimizer\n",
    "- Compile model and optimize: \n",
    "    - Compile the model by passing the problem defined in step-1\n",
    "    - Execute `model.optimize()` to run the optimization process\n",
    "- Extract results\n",
    "    - Run `model.results` to obtain information on the optimization run "
   ]
  },
  {
   "cell_type": "markdown",
   "metadata": {},
   "source": [
    "### Begin by importing necessary modules"
   ]
  },
  {
   "cell_type": "code",
   "execution_count": 1,
   "metadata": {},
   "outputs": [],
   "source": [
    "#some regular python libraries\n",
    "import networkx as nx\n",
    "import numpy as np\n",
    "from pprint import pprint\n",
    "import matplotlib.pyplot as plt\n",
    "\n",
    "#import problem classes from OQ for easy problem creation\n",
    "from openqaoa.problems import MaximumCut, NumberPartition\n",
    "\n",
    "#import the QAOA workflow model\n",
    "from openqaoa import QAOA\n",
    "\n",
    "#import method to specify the device\n",
    "from openqaoa.backends import create_device"
   ]
  },
  {
   "cell_type": "markdown",
   "metadata": {},
   "source": [
    "### Step 1: Create a problem instance\n",
    "We begin by creating a problem instance for a simple MaximumCut problem for a random graph created using the python `networkx` module. MaximumCut is a go-to problem to demonstrate QAOA in action.\n",
    "\n",
    "For this, we first:\n",
    "- create a random graph using the `networkx` module\n",
    "- using the MaximumCut problem class, we translate into the QUBO formalism to optimize with QAOA"
   ]
  },
  {
   "cell_type": "code",
   "execution_count": 2,
   "metadata": {},
   "outputs": [
    {
     "data": {
      "image/png": "[encoded data removed]",
      "text/plain": [
       "<Figure size 1000x600 with 1 Axes>"
      ]
     },
     "metadata": {},
     "output_type": "display_data"
    }
   ],
   "source": [
    "nodes = 6\n",
    "edge_probability = 0.6\n",
    "g = nx.generators.fast_gnp_random_graph(n=nodes, p=edge_probability, seed=42)\n",
    "\n",
    "# import graph plotter from openqaoa\n",
    "from openqaoa.utilities import plot_graph\n",
    "plot_graph(g)"
   ]
  },
  {
   "cell_type": "code",
   "execution_count": 3,
   "metadata": {},
   "outputs": [],
   "source": [
    "# Use the MaximumCut class to instantiate the problem.\n",
    "maxcut_prob = MaximumCut(g)\n",
    "\n",
    "# The property `qubo` translates the problem into a binary Qubo problem. \n",
    "# The binary values can be access via the `asdict()` method.\n",
    "maxcut_qubo = maxcut_prob.qubo"
   ]
  },
  {
   "cell_type": "code",
   "execution_count": 4,
   "metadata": {},
   "outputs": [
    {
     "name": "stdout",
     "output_type": "stream",
     "text": [
      "{'constant': 0,\n",
      " 'metadata': {},\n",
      " 'n': 6,\n",
      " 'problem_instance': {'G': {'directed': False,\n",
      "                            'graph': {},\n",
      "                            'links': [{'source': 0, 'target': 2},\n",
      "                                      {'source': 0, 'target': 3},\n",
      "                                      {'source': 0, 'target': 4},\n",
      "                                      {'source': 1, 'target': 2},\n",
      "                                      {'source': 1, 'target': 3},\n",
      "                                      {'source': 1, 'target': 5},\n",
      "                                      {'source': 2, 'target': 4},\n",
      "                                      {'source': 2, 'target': 5},\n",
      "                                      {'source': 3, 'target': 5},\n",
      "                                      {'source': 4, 'target': 5}],\n",
      "                            'multigraph': False,\n",
      "                            'nodes': [{'id': 0},\n",
      "                                      {'id': 1},\n",
      "                                      {'id': 2},\n",
      "                                      {'id': 3},\n",
      "                                      {'id': 4},\n",
      "                                      {'id': 5}]},\n",
      "                      'problem_type': 'maximum_cut'},\n",
      " 'terms': [[0, 2],\n",
      "           [0, 3],\n",
      "           [0, 4],\n",
      "           [1, 2],\n",
      "           [1, 3],\n",
      "           [1, 5],\n",
      "           [2, 4],\n",
      "           [2, 5],\n",
      "           [3, 5],\n",
      "           [4, 5]],\n",
      " 'weights': [1.0, 1.0, 1.0, 1.0, 1.0, 1.0, 1.0, 1.0, 1.0, 1.0]}\n"
     ]
    }
   ],
   "source": [
    "pprint(maxcut_qubo.asdict())"
   ]
  },
  {
   "cell_type": "markdown",
   "metadata": {},
   "source": [
    "#### Extract the exact solution for a small enough problem\n",
    "\n"
   ]
  },
  {
   "cell_type": "code",
   "execution_count": 5,
   "metadata": {},
   "outputs": [
    {
     "name": "stdout",
     "output_type": "stream",
     "text": [
      "Ground State energy: -6.0, Solution: ['001110', '110001']\n"
     ]
    }
   ],
   "source": [
    "hamiltonian = maxcut_qubo.hamiltonian\n",
    "\n",
    "# import the brute-force solver to obtain exact solution\n",
    "from openqaoa.utilities import ground_state_hamiltonian\n",
    "energy, configuration = ground_state_hamiltonian(hamiltonian)\n",
    "print(f\"Ground State energy: {energy}, Solution: {configuration}\")"
   ]
  },
  {
   "cell_type": "code",
   "execution_count": 8,
   "metadata": {},
   "outputs": [
    {
     "data": {
      "text/plain": [
       "<matplotlib.collections.LineCollection at 0x7fdcd0825ed0>"
      ]
     },
     "execution_count": 8,
     "metadata": {},
     "output_type": "execute_result"
    },
    {
     "data": {
      "image/png": "[encoded data removed]",
      "text/plain": [
       "<Figure size 640x480 with 1 Axes>"
      ]
     },
     "metadata": {},
     "output_type": "display_data"
    }
   ],
   "source": [
    "#plot the solution on graph\n",
    "g_sol = np.copy(g)\n",
    "pos =  nx.spring_layout(g)\n",
    "nx.draw_networkx_nodes(g, pos, nodelist=[idx for idx,bit in enumerate(configuration[0]) if bit == '1'], node_color=\"tab:red\")\n",
    "nx.draw_networkx_nodes(g, pos, nodelist=[idx for idx,bit in enumerate(configuration[0]) if bit == '0'], node_color=\"tab:blue\")\n",
    "nx.draw_networkx_edges(g, pos)"
   ]
  },
  {
   "cell_type": "markdown",
   "metadata": {},
   "source": [
    "### Step 2: Build the QAOA model\n",
    " - Initialize the model (with default parameters)\n",
    " - Optionally set the following properties for the model\n",
    "     - `model.set_device(...)`: Set the device\n",
    "         - The device properties include the location of the device `[local, qcs, ibmq]` and the device name. Full list of devices available at              `openqaoa.workflows.parameters.qaoa_parameters.ALLOWED_DEVICES`\n",
    "     - `model.set_circuit_properties(...)`: Sets the circuit properties. Mainly used for:\n",
    "         - `p`: the number of layers\n",
    "         - `param_type`: the desired parameterisation to be chosen between `['standard', 'extended', 'fourier', annealing]`\n",
    "         - `init_type`: the initialisation strategy for param_type. To be chosen between `['ramp', 'random', 'custom']`\n",
    "     - `model.set_backend_properties(...)`\n",
    "     - `model.set_classical_optimizer(...)`\n",
    "\n",
    "\n",
    "    \n",
    "For more details on the configurable properties, please refer to the documentation"
   ]
  },
  {
   "cell_type": "code",
   "execution_count": 9,
   "metadata": {},
   "outputs": [],
   "source": [
    "# initialize model with default configurations\n",
    "q = QAOA()"
   ]
  },
  {
   "cell_type": "code",
   "execution_count": 10,
   "metadata": {},
   "outputs": [],
   "source": [
    "# optionally configure the following properties of the model\n",
    "\n",
    "# device\n",
    "qiskit_device = create_device(location='local', name='qiskit.statevector_simulator')\n",
    "q.set_device(qiskit_device)\n",
    "\n",
    "# circuit properties\n",
    "q.set_circuit_properties(p=2, param_type='standard', init_type='rand', mixer_hamiltonian='x')\n",
    "\n",
    "# backend properties (already set by default)\n",
    "q.set_backend_properties(prepend_state=None, append_state=None)\n",
    "\n",
    "# classical optimizer properties\n",
    "q.set_classical_optimizer(method='nelder-mead', maxiter=200, tol=0.001,\n",
    "                          optimization_progress=True, cost_progress=True, parameter_log=True)"
   ]
  },
  {
   "cell_type": "markdown",
   "metadata": {},
   "source": [
    "### Step 3: Compile and Optimize\n",
    "\n",
    "- Once the QAOA model is configured, we need to compile it. **Compilation is necessary** because the QAOA solver has to interact with the problem in to be able to create the underlying QAOA circuit.\n",
    "- The problem is ready to be optimized now. The user can call `model.optimize()` to initiate the optimization loop. "
   ]
  },
  {
   "cell_type": "code",
   "execution_count": 11,
   "metadata": {},
   "outputs": [],
   "source": [
    "q.compile(maxcut_qubo) "
   ]
  },
  {
   "cell_type": "code",
   "execution_count": 12,
   "metadata": {},
   "outputs": [],
   "source": [
    "q.optimize()"
   ]
  },
  {
   "cell_type": "markdown",
   "metadata": {},
   "source": [
    "### Step 4: Accessing the results"
   ]
  },
  {
   "cell_type": "code",
   "execution_count": 13,
   "metadata": {},
   "outputs": [],
   "source": [
    "opt_results = q.result"
   ]
  },
  {
   "cell_type": "code",
   "execution_count": 14,
   "metadata": {},
   "outputs": [
    {
     "data": {
      "image/png": "[encoded data removed]",
      "text/plain": [
       "<Figure size 1000x800 with 1 Axes>"
      ]
     },
     "metadata": {},
     "output_type": "display_data"
    }
   ],
   "source": [
    "# print the cost history\n",
    "opt_results.plot_cost()"
   ]
  },
  {
   "cell_type": "code",
   "execution_count": 15,
   "metadata": {},
   "outputs": [],
   "source": [
    "# prints a large output (commented by default)\n",
    "# pprint(opt_results.intermediate)"
   ]
  },
  {
   "cell_type": "code",
   "execution_count": 16,
   "metadata": {},
   "outputs": [
    {
     "name": "stdout",
     "output_type": "stream",
     "text": [
      "{'angles': [1.699644493108, 2.84969267487, 2.356260705585, 1.570736465525],\n",
      " 'cost': 3.7823e-08,\n",
      " 'eval_number': 110,\n",
      " 'job_id': '2ca8aea3-8f17-46ee-a9e7-ab8c88f88a67',\n",
      " 'measurement_outcomes': array([ 0.05994916-0.06876079j,  0.14577372-0.02227373j,\n",
      "        0.01745783+0.0177635j ,  0.01987486-0.1772482j ,\n",
      "       -0.01990409+0.17724456j, -0.01745597-0.01778546j,\n",
      "       -0.14578029+0.02225026j, -0.05994666+0.06874805j,\n",
      "        0.14577372-0.02227373j, -0.02016685+0.11767169j,\n",
      "        0.01988605+0.05958395j, -0.14912565+0.01777985j,\n",
      "        0.14913591-0.01778011j, -0.0198929 -0.05957445j,\n",
      "        0.02015155-0.11766369j, -0.14578029+0.02225026j,\n",
      "        0.01745783+0.0177635j ,  0.01988605+0.05958395j,\n",
      "       -0.02016302-0.2353348j , -0.04062943-0.02225396j,\n",
      "        0.04062575+0.0222632j ,  0.0201379 +0.23533266j,\n",
      "       -0.0198929 -0.05957445j, -0.01745597-0.01778546j,\n",
      "        0.01987486-0.1772482j , -0.14912565+0.01777985j,\n",
      "       -0.04062943-0.02225396j,  0.05995206-0.04891033j,\n",
      "       -0.05994156+0.04891291j,  0.04062575+0.0222632j ,\n",
      "        0.14913591-0.01778011j, -0.01990409+0.17724456j,\n",
      "       -0.01990409+0.17724456j,  0.14913591-0.01778011j,\n",
      "        0.04062575+0.0222632j , -0.05994156+0.04891291j,\n",
      "        0.05995206-0.04891033j, -0.04062943-0.02225396j,\n",
      "       -0.14912565+0.01777985j,  0.01987486-0.1772482j ,\n",
      "       -0.01745597-0.01778546j, -0.0198929 -0.05957445j,\n",
      "        0.0201379 +0.23533266j,  0.04062575+0.0222632j ,\n",
      "       -0.04062943-0.02225396j, -0.02016302-0.2353348j ,\n",
      "        0.01988605+0.05958395j,  0.01745783+0.0177635j ,\n",
      "       -0.14578029+0.02225026j,  0.02015155-0.11766369j,\n",
      "       -0.0198929 -0.05957445j,  0.14913591-0.01778011j,\n",
      "       -0.14912565+0.01777985j,  0.01988605+0.05958395j,\n",
      "       -0.02016685+0.11767169j,  0.14577372-0.02227373j,\n",
      "       -0.05994666+0.06874805j, -0.14578029+0.02225026j,\n",
      "       -0.01745597-0.01778546j, -0.01990409+0.17724456j,\n",
      "        0.01987486-0.1772482j ,  0.01745783+0.0177635j ,\n",
      "        0.14577372-0.02227373j,  0.05994916-0.06876079j])}\n"
     ]
    }
   ],
   "source": [
    "pprint(opt_results.optimized)"
   ]
  },
  {
   "cell_type": "code",
   "execution_count": 17,
   "metadata": {},
   "outputs": [],
   "source": [
    "variational_params = q.optimizer.variational_params"
   ]
  },
  {
   "cell_type": "code",
   "execution_count": 18,
   "metadata": {},
   "outputs": [
    {
     "data": {
      "text/html": [
       "<pre style=\"word-wrap: normal;white-space: pre;background: #fff0;line-height: 1.1;font-family: &quot;Courier New&quot;,Courier,monospace\">      ┌───┐                                                            »\n",
       "q0_0: ┤ H ├─■───────────────────■──────────────────────────────────────»\n",
       "      ├───┤ │                   │                                      »\n",
       "q0_1: ┤ H ├─┼───────────────────┼───────────────────■──────────────────»\n",
       "      ├───┤ │ZZ(4.71252141117)  │                   │ZZ(4.71252141117) »\n",
       "q0_2: ┤ H ├─■───────────────────┼───────────────────■──────────────────»\n",
       "      ├───┤                     │ZZ(4.71252141117)                     »\n",
       "q0_3: ┤ H ├─────────────────────■──────────────────────────────────────»\n",
       "      ├───┤                                                            »\n",
       "q0_4: ┤ H ├────────────────────────────────────────────────────────────»\n",
       "      ├───┤                                                            »\n",
       "q0_5: ┤ H ├────────────────────────────────────────────────────────────»\n",
       "      └───┘                                                            »\n",
       "«                          ┌─────────────────────┐                    »\n",
       "«q0_0: ─■──────────────────┤ Rx(-3.399288986216) ├────────────────────»\n",
       "«       │                  └─────────────────────┘                    »\n",
       "«q0_1: ─┼─────────────────────■────────────────────■──────────────────»\n",
       "«       │                     │                    │                  »\n",
       "«q0_2: ─┼─────────────────────┼────────────────────┼──────────────────»\n",
       "«       │                     │ZZ(4.71252141117)   │                  »\n",
       "«q0_3: ─┼─────────────────────■────────────────────┼──────────────────»\n",
       "«       │ZZ(4.71252141117)                         │                  »\n",
       "«q0_4: ─■──────────────────────────────────────────┼──────────────────»\n",
       "«                                                  │ZZ(4.71252141117) »\n",
       "«q0_5: ────────────────────────────────────────────■──────────────────»\n",
       "«                                                                     »\n",
       "«                                                                        »\n",
       "«q0_0: ──────────────────────────────────────────────────────────────────»\n",
       "«      ┌─────────────────────┐                                           »\n",
       "«q0_1: ┤ Rx(-3.399288986216) ├───────────────────────────────────────────»\n",
       "«      └─────────────────────┘                    ┌─────────────────────┐»\n",
       "«q0_2: ───■────────────────────■──────────────────┤ Rx(-3.399288986216) ├»\n",
       "«         │                    │                  └─────────────────────┘»\n",
       "«q0_3: ───┼────────────────────┼─────────────────────■───────────────────»\n",
       "«         │ZZ(4.71252141117)   │                     │                   »\n",
       "«q0_4: ───■────────────────────┼─────────────────────┼───────────────────»\n",
       "«                              │ZZ(4.71252141117)    │ZZ(4.71252141117)  »\n",
       "«q0_5: ────────────────────────■─────────────────────■───────────────────»\n",
       "«                                                                        »\n",
       "«                                                                        »\n",
       "«q0_0: ───■──────────────────────■───────────────────────────────────────»\n",
       "«         │                      │                                       »\n",
       "«q0_1: ───┼──────────────────────┼────────────────────■──────────────────»\n",
       "«         │ZZ(3.14147293105)     │                    │ZZ(3.14147293105) »\n",
       "«q0_2: ───■──────────────────────┼────────────────────■──────────────────»\n",
       "«      ┌─────────────────────┐   │ZZ(3.14147293105)                      »\n",
       "«q0_3: ┤ Rx(-3.399288986216) ├───■───────────────────────────────────────»\n",
       "«      └─────────────────────┘┌─────────────────────┐                    »\n",
       "«q0_4: ───■───────────────────┤ Rx(-3.399288986216) ├────────────────────»\n",
       "«         │ZZ(4.71252141117)  ├─────────────────────┤                    »\n",
       "«q0_5: ───■───────────────────┤ Rx(-3.399288986216) ├────────────────────»\n",
       "«                             └─────────────────────┘                    »\n",
       "«                          ┌────────────────────┐                    »\n",
       "«q0_0: ─■──────────────────┤ Rx(-5.69938534974) ├────────────────────»\n",
       "«       │                  └────────────────────┘                    »\n",
       "«q0_1: ─┼────────────────────■────────────────────■──────────────────»\n",
       "«       │                    │                    │                  »\n",
       "«q0_2: ─┼────────────────────┼────────────────────┼──────────────────»\n",
       "«       │                    │ZZ(3.14147293105)   │                  »\n",
       "«q0_3: ─┼────────────────────■────────────────────┼──────────────────»\n",
       "«       │ZZ(3.14147293105)                        │                  »\n",
       "«q0_4: ─■─────────────────────────────────────────┼──────────────────»\n",
       "«                                                 │ZZ(3.14147293105) »\n",
       "«q0_5: ───────────────────────────────────────────■──────────────────»\n",
       "«                                                                    »\n",
       "«                                                                      »\n",
       "«q0_0: ────────────────────────────────────────────────────────────────»\n",
       "«      ┌────────────────────┐                                          »\n",
       "«q0_1: ┤ Rx(-5.69938534974) ├──────────────────────────────────────────»\n",
       "«      └────────────────────┘                    ┌────────────────────┐»\n",
       "«q0_2: ──■────────────────────■──────────────────┤ Rx(-5.69938534974) ├»\n",
       "«        │                    │                  └────────────────────┘»\n",
       "«q0_3: ──┼────────────────────┼────────────────────■───────────────────»\n",
       "«        │ZZ(3.14147293105)   │                    │                   »\n",
       "«q0_4: ──■────────────────────┼────────────────────┼───────────────────»\n",
       "«                             │ZZ(3.14147293105)   │ZZ(3.14147293105)  »\n",
       "«q0_5: ───────────────────────■────────────────────■───────────────────»\n",
       "«                                                                      »\n",
       "«                                                  \n",
       "«q0_0: ────────────────────────────────────────────\n",
       "«                                                  \n",
       "«q0_1: ────────────────────────────────────────────\n",
       "«                                                  \n",
       "«q0_2: ────────────────────────────────────────────\n",
       "«      ┌────────────────────┐                      \n",
       "«q0_3: ┤ Rx(-5.69938534974) ├──────────────────────\n",
       "«      └────────────────────┘┌────────────────────┐\n",
       "«q0_4: ──■───────────────────┤ Rx(-5.69938534974) ├\n",
       "«        │ZZ(3.14147293105)  ├────────────────────┤\n",
       "«q0_5: ──■───────────────────┤ Rx(-5.69938534974) ├\n",
       "«                            └────────────────────┘</pre>"
      ],
      "text/plain": [
       "      ┌───┐                                                            »\n",
       "q0_0: ┤ H ├─■───────────────────■──────────────────────────────────────»\n",
       "      ├───┤ │                   │                                      »\n",
       "q0_1: ┤ H ├─┼───────────────────┼───────────────────■──────────────────»\n",
       "      ├───┤ │ZZ(4.71252141117)  │                   │ZZ(4.71252141117) »\n",
       "q0_2: ┤ H ├─■───────────────────┼───────────────────■──────────────────»\n",
       "      ├───┤                     │ZZ(4.71252141117)                     »\n",
       "q0_3: ┤ H ├─────────────────────■──────────────────────────────────────»\n",
       "      ├───┤                                                            »\n",
       "q0_4: ┤ H ├────────────────────────────────────────────────────────────»\n",
       "      ├───┤                                                            »\n",
       "q0_5: ┤ H ├────────────────────────────────────────────────────────────»\n",
       "      └───┘                                                            »\n",
       "«                          ┌─────────────────────┐                    »\n",
       "«q0_0: ─■──────────────────┤ Rx(-3.399288986216) ├────────────────────»\n",
       "«       │                  └─────────────────────┘                    »\n",
       "«q0_1: ─┼─────────────────────■────────────────────■──────────────────»\n",
       "«       │                     │                    │                  »\n",
       "«q0_2: ─┼─────────────────────┼────────────────────┼──────────────────»\n",
       "«       │                     │ZZ(4.71252141117)   │                  »\n",
       "«q0_3: ─┼─────────────────────■────────────────────┼──────────────────»\n",
       "«       │ZZ(4.71252141117)                         │                  »\n",
       "«q0_4: ─■──────────────────────────────────────────┼──────────────────»\n",
       "«                                                  │ZZ(4.71252141117) »\n",
       "«q0_5: ────────────────────────────────────────────■──────────────────»\n",
       "«                                                                     »\n",
       "«                                                                        »\n",
       "«q0_0: ──────────────────────────────────────────────────────────────────»\n",
       "«      ┌─────────────────────┐                                           »\n",
       "«q0_1: ┤ Rx(-3.399288986216) ├───────────────────────────────────────────»\n",
       "«      └─────────────────────┘                    ┌─────────────────────┐»\n",
       "«q0_2: ───■────────────────────■──────────────────┤ Rx(-3.399288986216) ├»\n",
       "«         │                    │                  └─────────────────────┘»\n",
       "«q0_3: ───┼────────────────────┼─────────────────────■───────────────────»\n",
       "«         │ZZ(4.71252141117)   │                     │                   »\n",
       "«q0_4: ───■────────────────────┼─────────────────────┼───────────────────»\n",
       "«                              │ZZ(4.71252141117)    │ZZ(4.71252141117)  »\n",
       "«q0_5: ────────────────────────■─────────────────────■───────────────────»\n",
       "«                                                                        »\n",
       "«                                                                        »\n",
       "«q0_0: ───■──────────────────────■───────────────────────────────────────»\n",
       "«         │                      │                                       »\n",
       "«q0_1: ───┼──────────────────────┼────────────────────■──────────────────»\n",
       "«         │ZZ(3.14147293105)     │                    │ZZ(3.14147293105) »\n",
       "«q0_2: ───■──────────────────────┼────────────────────■──────────────────»\n",
       "«      ┌─────────────────────┐   │ZZ(3.14147293105)                      »\n",
       "«q0_3: ┤ Rx(-3.399288986216) ├───■───────────────────────────────────────»\n",
       "«      └─────────────────────┘┌─────────────────────┐                    »\n",
       "«q0_4: ───■───────────────────┤ Rx(-3.399288986216) ├────────────────────»\n",
       "«         │ZZ(4.71252141117)  ├─────────────────────┤                    »\n",
       "«q0_5: ───■───────────────────┤ Rx(-3.399288986216) ├────────────────────»\n",
       "«                             └─────────────────────┘                    »\n",
       "«                          ┌────────────────────┐                    »\n",
       "«q0_0: ─■──────────────────┤ Rx(-5.69938534974) ├────────────────────»\n",
       "«       │                  └────────────────────┘                    »\n",
       "«q0_1: ─┼────────────────────■────────────────────■──────────────────»\n",
       "«       │                    │                    │                  »\n",
       "«q0_2: ─┼────────────────────┼────────────────────┼──────────────────»\n",
       "«       │                    │ZZ(3.14147293105)   │                  »\n",
       "«q0_3: ─┼────────────────────■────────────────────┼──────────────────»\n",
       "«       │ZZ(3.14147293105)                        │                  »\n",
       "«q0_4: ─■─────────────────────────────────────────┼──────────────────»\n",
       "«                                                 │ZZ(3.14147293105) »\n",
       "«q0_5: ───────────────────────────────────────────■──────────────────»\n",
       "«                                                                    »\n",
       "«                                                                      »\n",
       "«q0_0: ────────────────────────────────────────────────────────────────»\n",
       "«      ┌────────────────────┐                                          »\n",
       "«q0_1: ┤ Rx(-5.69938534974) ├──────────────────────────────────────────»\n",
       "«      └────────────────────┘                    ┌────────────────────┐»\n",
       "«q0_2: ──■────────────────────■──────────────────┤ Rx(-5.69938534974) ├»\n",
       "«        │                    │                  └────────────────────┘»\n",
       "«q0_3: ──┼────────────────────┼────────────────────■───────────────────»\n",
       "«        │ZZ(3.14147293105)   │                    │                   »\n",
       "«q0_4: ──■────────────────────┼────────────────────┼───────────────────»\n",
       "«                             │ZZ(3.14147293105)   │ZZ(3.14147293105)  »\n",
       "«q0_5: ───────────────────────■────────────────────■───────────────────»\n",
       "«                                                                      »\n",
       "«                                                  \n",
       "«q0_0: ────────────────────────────────────────────\n",
       "«                                                  \n",
       "«q0_1: ────────────────────────────────────────────\n",
       "«                                                  \n",
       "«q0_2: ────────────────────────────────────────────\n",
       "«      ┌────────────────────┐                      \n",
       "«q0_3: ┤ Rx(-5.69938534974) ├──────────────────────\n",
       "«      └────────────────────┘┌────────────────────┐\n",
       "«q0_4: ──■───────────────────┤ Rx(-5.69938534974) ├\n",
       "«        │ZZ(3.14147293105)  ├────────────────────┤\n",
       "«q0_5: ──■───────────────────┤ Rx(-5.69938534974) ├\n",
       "«                            └────────────────────┘"
      ]
     },
     "execution_count": 18,
     "metadata": {},
     "output_type": "execute_result"
    }
   ],
   "source": [
    "#create the optimized QAOA circuit for qiskit backend\n",
    "optimized_angles = opt_results.optimized['angles']\n",
    "variational_params.update_from_raw(optimized_angles)\n",
    "optimized_circuit = q.backend.qaoa_circuit(variational_params)\n",
    "\n",
    "#print the optimized QAOA circuit for qiskit backend\n",
    "optimized_circuit.draw()"
   ]
  },
  {
   "cell_type": "code",
   "execution_count": null,
   "metadata": {},
   "outputs": [],
   "source": []
  }
 ],
 "metadata": {
  "kernelspec": {
   "display_name": "Python 3 (ipykernel)",
   "language": "python",
   "name": "python3"
  },
  "language_info": {
   "codemirror_mode": {
    "name": "ipython",
    "version": 3
   },
   "file_extension": ".py",
   "mimetype": "text/x-python",
   "name": "python",
   "nbconvert_exporter": "python",
   "pygments_lexer": "ipython3",
   "version": "3.10.10"
  },
  "vscode": {
   "interpreter": {
    "hash": "d2582286b70c3b030a2fde61b871db03dec7fee33191883f4394b540a2eb90c7"
   }
  }
 },
 "nbformat": 4,
 "nbformat_minor": 4
}
